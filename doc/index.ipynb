{
 "metadata": {
  "name": "",
  "signature": "sha256:1a205aee24fd768a33a02ba0f51bce58398ca4b19f7c10b4d235784393819baa"
 },
 "nbformat": 3,
 "nbformat_minor": 0,
 "worksheets": [
  {
   "cells": [
    {
     "cell_type": "markdown",
     "metadata": {},
     "source": [
      "\n",
      "# Pyadjoint\n",
      "\n",
      "`Pyadjoint` is a Python package to measure misfits and calculate adjoint sources. It aims to provide a comprehensive package and incorporate various types of measurements and associated adjoint sources.\n",
      "\n",
      "## Installation\n",
      "\n",
      "`Pyadjoint` utilizes [ObsPy](http://obspy.org) (and some of its dependencies) for the processing and data handling. As a first step, please follow the [installation instructions of ObsPy](https://github.com/obspy/obspy/wiki#installation) for your given platform (we recommend the installation with [Anaconda](https://github.com/obspy/obspy/wiki/Installation-via-Anaconda) as it will most likely result in the least amount of problems). `Pyadjoint` should work with Python versions 2.6, 2.7, 3.3, and 3.4 (mainly depends on the used ObsPy version). To install it, best use `pip` (not working yet!):\n",
      "\n",
      "```bash\n",
      "$ pip install pyadjoint\n",
      "```\n",
      "\n",
      "If you want the latest development version, or want to work on the code, you will have to install with the help of `git`.\n",
      "\n",
      "```bash\n",
      "$ git clone https://github.com/krischer/pyadjoint.git\n",
      "$ cd pyadjoint\n",
      "$ pip install -v -e .\n",
      "```\n",
      "\n",
      "## Tests\n",
      "\n",
      "To assure the installation is valid and everything works as expected, run the tests with\n",
      "\n",
      "```bash\n",
      "$ python -m pyadjoint.tests\n",
      "```\n",
      "\n",
      "## Usage\n",
      "\n",
      "### Basic Usage\n",
      "\n",
      "The first step is to import ObsPy and `Pyadjoint`.\n",
      "\n"
     ]
    },
    {
     "cell_type": "code",
     "collapsed": false,
     "input": [
      "import obspy\n",
      "import pyadjoint"
     ],
     "language": "python",
     "metadata": {},
     "outputs": [],
     "prompt_number": 2
    },
    {
     "cell_type": "markdown",
     "metadata": {},
     "source": [
      "`Pyadjoint` expects the data to be fully preprocessed thus both observed and synthetic data are expected to have exactly the same length, sampling rate, and spectral content. `Pyadjoint` furthermore does not care about the actual components in question; it will use two traces and calculate misfit values and adjoint sources for them. To provide a familiar nomenclature we will always talk about observed and synthetic data `Pyadjoint` is independent of what the data actually represents."
     ]
    },
    {
     "cell_type": "code",
     "collapsed": false,
     "input": [
      "# Helper function to get some example data used for\n",
      "# illustrative purposes.\n",
      "obs, syn = pyadjoint.utils.get_example_data()\n",
      "# Select the vertical components of both.\n",
      "obs = obs.select(component=\"Z\")[0]\n",
      "syn = syn.select(component=\"Z\")[0]"
     ],
     "language": "python",
     "metadata": {},
     "outputs": [],
     "prompt_number": 4
    },
    {
     "cell_type": "raw",
     "metadata": {},
     "source": [
      "Essentially all of ``Pyadjoint``'s functionality is accessed through its central :func:`~pyadjoint.adjoint_source.calculate_adjoint_source` function. A list of available\n",
      "adjoint source types can be found in :doc:`adjoint_sources/index`."
     ]
    },
    {
     "cell_type": "code",
     "collapsed": false,
     "input": [
      "adj_src = pyadjoint.calculate_adjoint_source(\n",
      "    # The type of misfit measurement and adjoint source.\n",
      "    adj_src_type=\"waveform_misfit\",\n",
      "    # Pass observed and synthetic data traces.\n",
      "    observed=obs, synthetic=syn,\n",
      "    # The spectral content of the data.\n",
      "    min_period=20.0, max_period=100.0,\n",
      "    # The window borders in seconds since the first sample.\n",
      "    left_window_border=800.0,\n",
      "    right_window_border=900.0)\n",
      "print(adj_src)"
     ],
     "language": "python",
     "metadata": {},
     "outputs": [
      {
       "output_type": "stream",
       "stream": "stdout",
       "text": [
        "Waveform Misfit Adjoint Source for component Z at station SY.DBO\n",
        "    Misfit: 4.262136726169763e-11\n",
        "    Adjoint source available with 3600 samples\n"
       ]
      }
     ],
     "prompt_number": 6
    },
    {
     "cell_type": "raw",
     "metadata": {},
     "source": [
      "It returns an :class:`~pyadjoint.adjoint_source.AdjointSource` object."
     ]
    },
    {
     "cell_type": "code",
     "collapsed": false,
     "input": [
      "# Access misfit and adjoint sources. The misfit is a floating point number.\n",
      "print(adj_src.misfit)\n",
      "# The adjoint source is a a numpy array.\n",
      "print(adj_src.adjoint_source)"
     ],
     "language": "python",
     "metadata": {},
     "outputs": [
      {
       "output_type": "stream",
       "stream": "stdout",
       "text": [
        "4.26213672617e-11\n",
        "[-0. -0. -0. ..., -0. -0. -0.]\n"
       ]
      }
     ],
     "prompt_number": 10
    },
    {
     "cell_type": "markdown",
     "metadata": {},
     "source": [
      "### Usage Options\n",
      "\n",
      "In case one just wants to calculate the misfit value, pass `adjoint_src=False` in which case the adjoint source will not be calculated. This sometimes is much faster and useful for line searches or similar endeavors."
     ]
    },
    {
     "cell_type": "code",
     "collapsed": false,
     "input": [
      "print(pyadjoint.calculate_adjoint_source(\n",
      "    adj_src_type=\"waveform_misfit\", observed=obs, synthetic=syn,\n",
      "    min_period=20.0, max_period=100.0,\n",
      "    left_window_border=800.0, right_window_border=900.0, adjoint_src=False))"
     ],
     "language": "python",
     "metadata": {},
     "outputs": [
      {
       "output_type": "stream",
       "stream": "stdout",
       "text": [
        "Waveform Misfit Adjoint Source for component Z at station SY.DBO\n",
        "    Misfit: 4.262136726169763e-11\n",
        "    Adjoint source has not been calculated\n"
       ]
      }
     ],
     "prompt_number": 12
    },
    {
     "cell_type": "markdown",
     "metadata": {},
     "source": [
      "All adjoint source types can also be plotted during the calculation. The type of plot produced depends on the type of misfit measurement and adjoint source."
     ]
    },
    {
     "cell_type": "code",
     "collapsed": false,
     "input": [
      "pyadjoint.calculate_adjoint_source(\n",
      "    adj_src_type=\"waveform_misfit\", observed=obs, synthetic=syn,\n",
      "    min_period=20.0, max_period=100.0,\n",
      "    left_window_border=800.0, right_window_border=900.0, plot=True);"
     ],
     "language": "python",
     "metadata": {},
     "outputs": [
      {
       "metadata": {},
       "output_type": "pyout",
       "prompt_number": 13,
       "text": [
        "<pyadjoint.adjoint_source.AdjointSource at 0x1147fa978>"
       ]
      }
     ],
     "prompt_number": 13
    },
    {
     "cell_type": "raw",
     "metadata": {},
     "source": [
      "Many types of adjoint sources have additional arguments that can be passed to it. The waveform misfit adjoint source for example allows to specifiy the width and type of the taper applied to the data. Please see the documentation of the different :doc:`adjoint_sources/index` for details."
     ]
    },
    {
     "cell_type": "code",
     "collapsed": false,
     "input": [
      "print(pyadjoint.calculate_adjoint_source(\n",
      "    adj_src_type=\"waveform_misfit\", observed=obs, synthetic=syn,\n",
      "    min_period=20.0, max_period=100.0,\n",
      "    left_window_border=800.0, right_window_border=900.0,\n",
      "    taper_percentage=0.3, taper_type=\"cosine\"))"
     ],
     "language": "python",
     "metadata": {},
     "outputs": [
      {
       "output_type": "stream",
       "stream": "stdout",
       "text": [
        "Waveform Misfit Adjoint Source for component Z at station SY.DBO\n",
        "    Misfit: 4.246742798312562e-11\n",
        "    Adjoint source available with 3600 samples\n"
       ]
      }
     ],
     "prompt_number": 14
    },
    {
     "cell_type": "raw",
     "metadata": {},
     "source": [
      "\n",
      "Detailed Documentation\n",
      "----------------------\n",
      "\n",
      ".. toctree::\n",
      "    :maxdepth: 2\n",
      "    \n",
      "    adjoint_source\n",
      "    adjoint_sources/index\n",
      "    example_dataset\n",
      "    utils\n",
      "    citations\n",
      "\n"
     ]
    },
    {
     "cell_type": "code",
     "collapsed": false,
     "input": [],
     "language": "python",
     "metadata": {},
     "outputs": [],
     "prompt_number": null
    }
   ],
   "metadata": {}
  }
 ]
}