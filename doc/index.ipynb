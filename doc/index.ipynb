{
 "metadata": {
  "name": "",
  "signature": "sha256:7778876a47a874ad61107ba04237646676235eedd0d8937fc5803f7098a26572"
 },
 "nbformat": 3,
 "nbformat_minor": 0,
 "worksheets": [
  {
   "cells": [
    {
     "cell_type": "markdown",
     "metadata": {},
     "source": [
      "# Pyadjoint\n",
      "\n",
      "`Pyadjoint` is a Python package to measure misfit and calculate adjoint sources.\n",
      "\n",
      "## Installation\n",
      "\n",
      "`Pyadjoint` utilizes [ObsPy](http://obspy.org) (and some of its dependencies) for the processing and data handling. As a first step, please follow the [installation instructions of ObsPy](https://github.com/obspy/obspy/wiki#installation) for your given platform (we recommend the installation with [Anaconda](https://github.com/obspy/obspy/wiki/Installation-via-Anaconda) as it will most likely result in the least amount of problems). `Pyadjoint` should work with Python versions 2.6, 2.7, 3.3, and 3.4 (mainly depends on the used ObsPy version). To install it, best use `pip` (not working yet!):\n",
      "\n",
      "```bash\n",
      "$ pip install pyadjoint\n",
      "```\n",
      "\n",
      "If you want the latest development version, or want to work on the code, you will have to install with the help of `git`.\n",
      "\n",
      "```bash\n",
      "$ git clone https://github.com/krischer/pyadjoint.git\n",
      "$ cd pyadjoint\n",
      "$ pip install -v -e .\n",
      "```\n",
      "\n",
      "## Tests\n",
      "\n",
      "To assure the installation is valid and everything works as expected, run the tests with\n",
      "\n",
      "```bash\n",
      "$ python -m pyadjoint.tests\n",
      "```\n",
      "\n",
      "## Usage\n",
      "\n",
      "The first step is to import ObsPy and Pyadjoint."
     ]
    },
    {
     "cell_type": "code",
     "collapsed": false,
     "input": [
      "import obspy\n",
      "import pyadjoint"
     ],
     "language": "python",
     "metadata": {},
     "outputs": [],
     "prompt_number": 1
    },
    {
     "cell_type": "markdown",
     "metadata": {},
     "source": [
      "## Logging\n",
      "\n",
      "By default, `Pyadjoint` is fairly quiet and will only raise exceptions and warnings in case they occur. `Pyadjoint` utilizes Python's [logging facilities](https://docs.python.org/2/library/logging.html) so if you want more information you can hook into them. This approach is very flexible as it allows you to install custom logging handlers and channels."
     ]
    },
    {
     "cell_type": "code",
     "collapsed": false,
     "input": [
      "import logging\n",
      "logger = logging.getLogger(\"pyadjoint\")\n",
      "logger.setLevel(logging.DEBUG)"
     ],
     "language": "python",
     "metadata": {},
     "outputs": [],
     "prompt_number": 2
    },
    {
     "cell_type": "raw",
     "metadata": {},
     "source": [
      "\n",
      ":doc:`example_dataset`\n",
      ":doc:`utils`"
     ]
    },
    {
     "cell_type": "code",
     "collapsed": false,
     "input": [],
     "language": "python",
     "metadata": {},
     "outputs": [],
     "prompt_number": 3
    }
   ],
   "metadata": {}
  }
 ]
}