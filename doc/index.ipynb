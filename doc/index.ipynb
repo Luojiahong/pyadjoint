{
 "metadata": {
  "name": "",
  "signature": "sha256:dd2e7aa801c0bc6efc13c120484d4b1f3052e5857084c704f1711efa40c04056"
 },
 "nbformat": 3,
 "nbformat_minor": 0,
 "worksheets": [
  {
   "cells": [
    {
     "cell_type": "markdown",
     "metadata": {},
     "source": [
      "\n",
      "# Pyadjoint\n",
      "\n",
      "`Pyadjoint` is a Python package to measure misfit and calculate adjoint sources.\n",
      "\n",
      "## Installation\n",
      "\n",
      "`Pyadjoint` utilizes [ObsPy](http://obspy.org) (and some of its dependencies) for the processing and data handling. As a first step, please follow the [installation instructions of ObsPy](https://github.com/obspy/obspy/wiki#installation) for your given platform (we recommend the installation with [Anaconda](https://github.com/obspy/obspy/wiki/Installation-via-Anaconda) as it will most likely result in the least amount of problems). `Pyadjoint` should work with Python versions 2.6, 2.7, 3.3, and 3.4 (mainly depends on the used ObsPy version). To install it, best use `pip` (not working yet!):\n",
      "\n",
      "```bash\n",
      "$ pip install pyadjoint\n",
      "```\n",
      "\n",
      "If you want the latest development version, or want to work on the code, you will have to install with the help of `git`.\n",
      "\n",
      "```bash\n",
      "$ git clone https://github.com/krischer/pyadjoint.git\n",
      "$ cd pyadjoint\n",
      "$ pip install -v -e .\n",
      "```\n",
      "\n",
      "## Tests\n",
      "\n",
      "To assure the installation is valid and everything works as expected, run the tests with\n",
      "\n",
      "```bash\n",
      "$ python -m pyadjoint.tests\n",
      "```\n",
      "\n",
      "## Usage\n",
      "\n",
      "The first step is to import ObsPy and Pyadjoint.\n",
      "\n"
     ]
    },
    {
     "cell_type": "code",
     "collapsed": false,
     "input": [
      "import obspy\n",
      "import pyadjoint"
     ],
     "language": "python",
     "metadata": {},
     "outputs": [],
     "prompt_number": null
    },
    {
     "cell_type": "raw",
     "metadata": {},
     "source": [
      "\n",
      "Detailed Documentation\n",
      "----------------------\n",
      "\n",
      ".. toctree::\n",
      "    :maxdepth: 2\n",
      "    \n",
      "    adjoint_source\n",
      "    adjoint_sources/index\n",
      "    example_dataset\n",
      "    utils\n",
      "    citations\n",
      "\n"
     ]
    },
    {
     "cell_type": "code",
     "collapsed": false,
     "input": [],
     "language": "python",
     "metadata": {},
     "outputs": [],
     "prompt_number": null
    }
   ],
   "metadata": {}
  }
 ]
}